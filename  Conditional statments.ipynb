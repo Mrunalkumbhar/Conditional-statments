{
 "cells": [
  {
   "cell_type": "code",
   "execution_count": 2,
   "metadata": {
    "scrolled": true
   },
   "outputs": [
    {
     "name": "stdout",
     "output_type": "stream",
     "text": [
      "end of code\n"
     ]
    }
   ],
   "source": [
    "x=-11\n",
    "if x>0:\n",
    "    print(\"x is positive number\")\n",
    "print(\"end of code\")"
   ]
  },
  {
   "cell_type": "code",
   "execution_count": 4,
   "metadata": {},
   "outputs": [
    {
     "name": "stdout",
     "output_type": "stream",
     "text": [
      "x is positive number\n",
      "code is done...\n",
      "see u...\n",
      "Lets study another topic\n"
     ]
    }
   ],
   "source": [
    "x=11\n",
    "if x>0: \n",
    "    print(\"x is positive number\")\n",
    "    print(\"code is done...\")\n",
    "    print(\"see u...\")\n",
    "print(\"Lets study another topic\")"
   ]
  },
  {
   "cell_type": "code",
   "execution_count": 3,
   "metadata": {
    "scrolled": true
   },
   "outputs": [
    {
     "name": "stdout",
     "output_type": "stream",
     "text": [
      "x is -ve\n"
     ]
    }
   ],
   "source": [
    "x=22\n",
    "if x>0:\n",
    "    print(\"x is +ve\")\n",
    "else:\n",
    "    print(\"x is -ve\")"
   ]
  },
  {
   "cell_type": "code",
   "execution_count": 4,
   "metadata": {},
   "outputs": [
    {
     "name": "stdout",
     "output_type": "stream",
     "text": [
      "x is +ve\n"
     ]
    }
   ],
   "source": [
    "x=2\n",
    "if x>0:\n",
    "    print(\"x is +ve\")\n",
    "elif x==0:\n",
    "    print(\"x is zero\")\n",
    "else:\n",
    "    print(\"x is -ve\")"
   ]
  },
  {
   "cell_type": "code",
   "execution_count": null,
   "metadata": {},
   "outputs": [],
   "source": [
    "x=-9\n",
    "if x>0:\n",
    "    print(\"x is +ve\")\n",
    "else:\n",
    "    if x==0:\n",
    "        print(\"x is zero\")\n",
    "    else:\n",
    "        print(\"x is -ve\")"
   ]
  },
  {
   "cell_type": "code",
   "execution_count": 1,
   "metadata": {},
   "outputs": [
    {
     "data": {
      "text/plain": [
       "False"
      ]
     },
     "execution_count": 1,
     "metadata": {},
     "output_type": "execute_result"
    }
   ],
   "source": [
    "x=-2\n",
    "x in [1,2,3,4]"
   ]
  },
  {
   "cell_type": "code",
   "execution_count": 2,
   "metadata": {},
   "outputs": [
    {
     "name": "stdout",
     "output_type": "stream",
     "text": [
      "5  is present in the given list \n"
     ]
    }
   ],
   "source": [
    "x=5\n",
    "if x in [1,2,3,4,5]:\n",
    "    print(x,\" is present in the given list \")\n",
    "else:\n",
    "    print(x,\" is not present in the given list \")"
   ]
  },
  {
   "cell_type": "code",
   "execution_count": null,
   "metadata": {},
   "outputs": [],
   "source": [
    "#create a list of 5 products names ['a','s','f'], \n",
    "#prod_name=input()"
   ]
  },
  {
   "cell_type": "code",
   "execution_count": null,
   "metadata": {},
   "outputs": [],
   "source": [
    "#coffee bill app\n",
    "#coffe bill amount -->qty,unit_price\n",
    "unit_price=100\n",
    "quantity=int(input(\"enter the quantity \"))\n",
    "\n",
    "bill_amount=unit_price*quantity\n",
    "print(\"Your bill amount is \",bill_amount)\n",
    "\n",
    "# ex1 -cond 1 -- if the amount exceees 1000rs then provie discount of 15%"
   ]
  },
  {
   "cell_type": "code",
   "execution_count": null,
   "metadata": {},
   "outputs": [],
   "source": [
    "#percentage calculation\n",
    "#i/p--> name, m1 m2 m3, calculate total_marks and percentage, max_marks=100\n",
    "m1=int(input(\"enter marks for science subject \"))\n",
    "m2=int(input(\"enter marks for maths subject \"))\n",
    "m3=int(input(\"enter marks for drawing subject \"))\n",
    "total_marks=m1+m2+m3\n",
    "print(total_marks)\n",
    "percentage=(100*total_marks)/300\n",
    "print(percentage)\n",
    "\n",
    "\"\"\"\n",
    "p>35--fail\n",
    "35%=passing criteria\n",
    "35-45-3rd div\n",
    "46-60 - 2nd div\n",
    "60-75 - 1st div \n",
    ">=75  - distinction\n",
    "\n",
    "\"\"\""
   ]
  },
  {
   "cell_type": "code",
   "execution_count": 11,
   "metadata": {},
   "outputs": [
    {
     "name": "stdout",
     "output_type": "stream",
     "text": [
      "1st class\n"
     ]
    }
   ],
   "source": [
    "if percentage>=60:\n",
    "    print(\"1st class\")\n",
    "elif percentage<60 and p>=45:\n",
    "    print(\"2nd class\")\n",
    "else:\n",
    "    print(\"3rd class\")"
   ]
  },
  {
   "cell_type": "code",
   "execution_count": 12,
   "metadata": {},
   "outputs": [
    {
     "name": "stdout",
     "output_type": "stream",
     "text": [
      "22  is even number\n"
     ]
    }
   ],
   "source": [
    "# even or odd\n",
    "number=22\n",
    "if number%2==0:\n",
    "    print(number, \" is even number\")\n",
    "else:\n",
    "    print(number, \" is odd number\")"
   ]
  },
  {
   "cell_type": "code",
   "execution_count": 13,
   "metadata": {
    "collapsed": true
   },
   "outputs": [
    {
     "ename": "NameError",
     "evalue": "name 'expression' is not defined",
     "output_type": "error",
     "traceback": [
      "\u001b[1;31m---------------------------------------------------------------------------\u001b[0m",
      "\u001b[1;31mNameError\u001b[0m                                 Traceback (most recent call last)",
      "\u001b[1;32m<ipython-input-13-4bab6792c44d>\u001b[0m in \u001b[0;36m<module>\u001b[1;34m\u001b[0m\n\u001b[1;32m----> 1\u001b[1;33m \u001b[1;33m[\u001b[0m\u001b[0mon_true\u001b[0m\u001b[1;33m]\u001b[0m \u001b[1;32mif\u001b[0m \u001b[1;33m[\u001b[0m\u001b[0mexpression\u001b[0m\u001b[1;33m]\u001b[0m \u001b[1;32melse\u001b[0m \u001b[1;33m[\u001b[0m\u001b[0mon_false\u001b[0m\u001b[1;33m]\u001b[0m\u001b[1;33m\u001b[0m\u001b[1;33m\u001b[0m\u001b[0m\n\u001b[0m",
      "\u001b[1;31mNameError\u001b[0m: name 'expression' is not defined"
     ]
    }
   ],
   "source": [
    "[on_true] if [condition] else [on_false] "
   ]
  },
  {
   "cell_type": "code",
   "execution_count": 3,
   "metadata": {},
   "outputs": [],
   "source": [
    "n=23"
   ]
  },
  {
   "cell_type": "code",
   "execution_count": 4,
   "metadata": {},
   "outputs": [
    {
     "name": "stdout",
     "output_type": "stream",
     "text": [
      "23  is odd number\n"
     ]
    }
   ],
   "source": [
    "print(n,\" is even number\") if n%2==0 else print(n,\" is odd number\")"
   ]
  },
  {
   "cell_type": "code",
   "execution_count": 18,
   "metadata": {},
   "outputs": [],
   "source": [
    "# chk if entered year is leap yr or not"
   ]
  },
  {
   "cell_type": "code",
   "execution_count": 8,
   "metadata": {},
   "outputs": [],
   "source": [
    "time=16"
   ]
  },
  {
   "cell_type": "code",
   "execution_count": 9,
   "metadata": {},
   "outputs": [
    {
     "data": {
      "text/plain": [
       "'have a good day'"
      ]
     },
     "execution_count": 9,
     "metadata": {},
     "output_type": "execute_result"
    }
   ],
   "source": [
    "msg= \"good morning\" if time<12 else \"have a good day\"\n",
    "msg"
   ]
  },
  {
   "cell_type": "code",
   "execution_count": 21,
   "metadata": {},
   "outputs": [
    {
     "name": "stdout",
     "output_type": "stream",
     "text": [
      "good night\n"
     ]
    }
   ],
   "source": [
    "if time>12:\n",
    "    msg= \"good day\"\n",
    "else:\n",
    "    msg=\"good night\"\n",
    "print(msg)\n"
   ]
  },
  {
   "cell_type": "code",
   "execution_count": 22,
   "metadata": {},
   "outputs": [],
   "source": [
    "time=13"
   ]
  },
  {
   "cell_type": "code",
   "execution_count": null,
   "metadata": {},
   "outputs": [],
   "source": [
    "if cond1:\n",
    "    if cond1.1:\n",
    "        statmt\n",
    "        "
   ]
  },
  {
   "cell_type": "code",
   "execution_count": null,
   "metadata": {},
   "outputs": [],
   "source": [
    "if cond1:\n",
    "    if cond1.1:\n",
    "        statmt\n",
    "    else:\n",
    "        statmt\n",
    "else:\n",
    "    statement"
   ]
  },
  {
   "cell_type": "code",
   "execution_count": null,
   "metadata": {},
   "outputs": [],
   "source": [
    "if cond1:\n",
    "    statmt\n",
    "else:\n",
    "    if cond1.1:\n",
    "        statmt\n",
    "    else:\n",
    "        statmt\n",
    "        "
   ]
  },
  {
   "cell_type": "code",
   "execution_count": null,
   "metadata": {},
   "outputs": [],
   "source": [
    "if cond1:\n",
    "    if cond1.1:\n",
    "        statmt\n",
    "    else:\n",
    "        statmt\n",
    "else:\n",
    "    if cond1.2:\n",
    "        statmt\n",
    "    else:\n",
    "        statmt\n",
    "        "
   ]
  },
  {
   "cell_type": "code",
   "execution_count": null,
   "metadata": {},
   "outputs": [],
   "source": [
    "p<35 - fail\n",
    "p = 35 to 45 - 3rd\n",
    "p = 45 to 60 - 2nd\n",
    "p = 60 to 75 - 1st\n",
    "p>75 - abv disct.\n",
    "#by using nested if else statements \n",
    "#or by using logical operators"
   ]
  }
 ],
 "metadata": {
  "kernelspec": {
   "display_name": "Python 3 (ipykernel)",
   "language": "python",
   "name": "python3"
  },
  "language_info": {
   "codemirror_mode": {
    "name": "ipython",
    "version": 3
   },
   "file_extension": ".py",
   "mimetype": "text/x-python",
   "name": "python",
   "nbconvert_exporter": "python",
   "pygments_lexer": "ipython3",
   "version": "3.8.10"
  }
 },
 "nbformat": 4,
 "nbformat_minor": 2
}
